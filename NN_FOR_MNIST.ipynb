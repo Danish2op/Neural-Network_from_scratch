{
  "metadata": {
    "kernelspec": {
      "language": "python",
      "display_name": "Python 3",
      "name": "python3"
    },
    "language_info": {
      "name": "python",
      "version": "3.10.13",
      "mimetype": "text/x-python",
      "codemirror_mode": {
        "name": "ipython",
        "version": 3
      },
      "pygments_lexer": "ipython3",
      "nbconvert_exporter": "python",
      "file_extension": ".py"
    },
    "kaggle": {
      "accelerator": "none",
      "dataSources": [
        {
          "sourceId": 3004,
          "databundleVersionId": 861823,
          "sourceType": "competition"
        }
      ],
      "dockerImageVersionId": 30698,
      "isInternetEnabled": true,
      "language": "python",
      "sourceType": "notebook",
      "isGpuEnabled": false
    },
    "colab": {
      "name": "NN_FOR_MNIST",
      "provenance": [],
      "include_colab_link": true
    }
  },
  "nbformat_minor": 0,
  "nbformat": 4,
  "cells": [
    {
      "cell_type": "markdown",
      "metadata": {
        "id": "view-in-github",
        "colab_type": "text"
      },
      "source": [
        "<a href=\"https://colab.research.google.com/github/Danish2op/Neural-Network_from_scratch/blob/main/NN_FOR_MNIST.ipynb\" target=\"_parent\"><img src=\"https://colab.research.google.com/assets/colab-badge.svg\" alt=\"Open In Colab\"/></a>"
      ]
    },
    {
      "source": [
        "import numpy as np\n",
        "import pandas as pd\n",
        "from matplotlib import pyplot as plt\n",
        "\n",
        "\n",
        "# Load and preprocess data\n",
        "data = pd.read_csv('path to train.csv')\n",
        "data = np.array(data)\n",
        "m, n = data.shape\n",
        "np.random.shuffle(data)\n",
        "\n",
        "data_dev = data[0:28000].T\n",
        "Y_dev = data_dev[0]\n",
        "X_dev = data_dev[1:n]\n",
        "X_dev = X_dev / 255.\n",
        "\n",
        "data_train = data[28000:m].T\n",
        "Y_train = data_train[0]\n",
        "X_train = data_train[1:n]\n",
        "X_train = X_train / 255.\n",
        "_, m_train = X_train.shape\n",
        "\n"
      ],
      "metadata": {
        "id": "67QR-mAqr-tC"
      },
      "cell_type": "code",
      "outputs": [],
      "execution_count": null
    },
    {
      "cell_type": "code",
      "source": [
        " #Initialize parameters\n",
        "def init_params():\n",
        "    W1 = np.random.rand(128, 784) - 0.5\n",
        "    b1 = np.random.rand(128, 1) - 0.5\n",
        "    W2 = np.random.rand(64, 128) - 0.5\n",
        "    b2 = np.random.rand(64, 1) - 0.5\n",
        "    W3 = np.random.rand(10, 64) - 0.5\n",
        "    b3 = np.random.rand(10, 1) - 0.5\n",
        "    return W1, b1, W2, b2, W3, b3\n",
        "\n",
        "# Activation functions and their derivatives\n",
        "def LeakyReLU(Z, alpha=0.01):\n",
        "    return np.maximum(alpha * Z, Z)\n",
        "\n",
        "def ELU(Z, alpha=1.0):\n",
        "    return np.where(Z > 0, Z, alpha * (np.exp(Z) - 1))\n",
        "\n",
        "def ReLU(Z):\n",
        "    return np.maximum(0, Z)\n",
        "\n",
        "def LeakyReLU_deriv(Z, alpha=0.01):\n",
        "    return np.where(Z > 0, 1, alpha)\n",
        "\n",
        "def ELU_deriv(Z, alpha=1.0):\n",
        "    return np.where(Z > 0, 1, alpha * np.exp(Z))\n",
        "\n",
        "def ReLU_deriv(Z):\n",
        "    return np.where(Z > 0, 1, 0)\n",
        "\n",
        "def softmax(Z):\n",
        "    A = np.exp(Z) / np.sum(np.exp(Z), axis=0)\n",
        "    return A\n",
        "\n",
        "def sigmoid(Z):\n",
        "    return 1 / (1 + np.exp(-Z))\n",
        "\n",
        "def sigmoid_deriv(Z):\n",
        "    return sigmoid(Z) * (1 - sigmoid(Z))\n",
        "\n",
        "\n",
        "def forward_prop(W1, b1, W2, b2, W3, b3, X, activation_hidden1, activation_hidden2):\n",
        "    Z1 = W1.dot(X) + b1\n",
        "    A1 = activation_hidden1(Z1)\n",
        "    Z2 = W2.dot(A1) + b2\n",
        "    A2 = activation_hidden2(Z2)\n",
        "    Z3 = W3.dot(A2) + b3\n",
        "    A3 = softmax(Z3)\n",
        "    return Z1, A1, Z2, A2, Z3, A3\n",
        "\n",
        "def one_hot(Y):\n",
        "    one_hot_Y = np.zeros((Y.size, Y.max() + 1))\n",
        "    one_hot_Y[np.arange(Y.size), Y] = 1\n",
        "    one_hot_Y = one_hot_Y.T\n",
        "    return one_hot_Y\n",
        "\n",
        "def backward_prop(Z1, A1, Z2, A2, Z3, A3, W1, W2, W3, X, Y, activation_hidden1_deriv, activation_hidden2_deriv):\n",
        "    one_hot_Y = one_hot(Y)\n",
        "    dZ3 = A3 - one_hot_Y\n",
        "    dW3 = 1 / m * dZ3.dot(A2.T)\n",
        "    db3 = 1 / m * np.sum(dZ3, axis=1, keepdims=True)\n",
        "    dZ2 = W3.T.dot(dZ3) * activation_hidden2_deriv(Z2)\n",
        "    dW2 = 1 / m * dZ2.dot(A1.T)\n",
        "    db2 = 1 / m * np.sum(dZ2, axis=1, keepdims=True)\n",
        "    dZ1 = W2.T.dot(dZ2) * activation_hidden1_deriv(Z1)\n",
        "    dW1 = 1 / m * dZ1.dot(X.T)\n",
        "    db1 = 1 / m * np.sum(dZ1, axis=1, keepdims=True)\n",
        "    return dW1, db1, dW2, db2, dW3, db3\n",
        "\n",
        "def update_params(W1, b1, W2, b2, W3, b3, dW1, db1, dW2, db2, dW3, db3, alpha):\n",
        "    W1 = W1 - alpha * dW1\n",
        "    b1 = b1 - alpha * db1\n",
        "    W2 = W2 - alpha * dW2\n",
        "    b2 = b2 - alpha * db2\n",
        "    W3 = W3 - alpha * dW3\n",
        "    b3 = b3 - alpha * db3\n",
        "    return W1, b1, W2, b2, W3, b3\n",
        "\n",
        "def get_accuracy(predictions, Y):\n",
        "    return np.sum(predictions == Y) / Y.size\n",
        "\n",
        "def gradient_descent(X, Y, alpha, iterations, activation_hidden1, activation_hidden2, activation_hidden1_deriv, activation_hidden2_deriv):\n",
        "    W1, b1, W2, b2, W3, b3 = init_params()\n",
        "    accuracy_list = []\n",
        "    for i in range(iterations):\n",
        "        Z1, A1, Z2, A2, Z3, A3 = forward_prop(W1, b1, W2, b2, W3, b3, X, activation_hidden1, activation_hidden2)\n",
        "        dW1, db1, dW2, db2, dW3, db3 = backward_prop(Z1, A1, Z2, A2, Z3, A3, W1, W2, W3, X, Y, activation_hidden1_deriv, activation_hidden2_deriv)\n",
        "        W1, b1, W2, b2, W3, b3 = update_params(W1, b1, W2, b2, W3, b3, dW1, db1, dW2, db2, dW3, db3, alpha)\n",
        "        if i % 10 == 0:\n",
        "            predictions = np.argmax(A3, axis=0)\n",
        "            accuracy = get_accuracy(predictions, Y)\n",
        "            accuracy_list.append(accuracy)\n",
        "            print(f\"Iteration {i}: {accuracy}\")\n",
        "    return W1, b1, W2, b2, W3, b3, accuracy_list\n",
        "\n",
        "def make_predictions(X, W1, b1, W2, b2, W3, b3, activation_hidden1, activation_hidden2):\n",
        "    _, _, _, _, _, A3 = forward_prop(W1, b1, W2, b2, W3, b3, X, activation_hidden1, activation_hidden2)\n",
        "    predictions = np.argmax(A3, axis=0)\n",
        "    return predictions\n"
      ],
      "metadata": {
        "_uuid": "8f2839f25d086af736a60e9eeb907d3b93b6e0e5",
        "_cell_guid": "b1076dfc-b9ad-4769-8c92-a6c4dae69d19",
        "execution": {
          "iopub.status.busy": "2024-05-30T12:51:03.725427Z",
          "iopub.execute_input": "2024-05-30T12:51:03.725935Z",
          "iopub.status.idle": "2024-05-30T12:51:04.183794Z",
          "shell.execute_reply.started": "2024-05-30T12:51:03.725901Z",
          "shell.execute_reply": "2024-05-30T12:51:04.182244Z"
        },
        "trusted": true,
        "id": "-v1q5J1Jr-tD"
      },
      "execution_count": null,
      "outputs": []
    },
    {
      "cell_type": "code",
      "source": [
        "print(\"training with LeakyReLU and ELU\")\n",
        "W1, b1, W2, b2, W3, b3, accuracy_list_leaky_elu = gradient_descent(\n",
        "    X_train, Y_train, 0.10, 500, LeakyReLU, ELU, LeakyReLU_deriv, ELU_deriv)\n",
        "\n",
        "predictions_test_leaky_elu = make_predictions(X_dev, W1, b1, W2, b2, W3, b3, LeakyReLU, ELU)"
      ],
      "metadata": {
        "execution": {
          "iopub.status.busy": "2024-05-30T12:51:06.155875Z",
          "iopub.execute_input": "2024-05-30T12:51:06.156521Z",
          "iopub.status.idle": "2024-05-30T12:51:11.168147Z",
          "shell.execute_reply.started": "2024-05-30T12:51:06.156474Z",
          "shell.execute_reply": "2024-05-30T12:51:11.166886Z"
        },
        "trusted": true,
        "id": "-emN4Bp6r-tD"
      },
      "execution_count": null,
      "outputs": []
    },
    {
      "cell_type": "code",
      "source": [
        "# Training and testing with ReLU\n",
        "print(\"training with only ReLU\")\n",
        "W1, b1, W2, b2, W3, b3, accuracy_list_relu = gradient_descent(\n",
        "    X_train, Y_train, 0.10, 500, ReLU, ReLU, ReLU_deriv, ReLU_deriv)\n",
        "\n",
        "predictions_test_relu = make_predictions(X_dev, W1, b1, W2, b2, W3, b3, ReLU, ReLU)\n"
      ],
      "metadata": {
        "execution": {
          "iopub.status.busy": "2024-05-30T12:51:52.66364Z",
          "iopub.execute_input": "2024-05-30T12:51:52.664076Z",
          "iopub.status.idle": "2024-05-30T12:51:52.79478Z",
          "shell.execute_reply.started": "2024-05-30T12:51:52.664043Z",
          "shell.execute_reply": "2024-05-30T12:51:52.793636Z"
        },
        "trusted": true,
        "id": "8tFLAFeyr-tD"
      },
      "execution_count": null,
      "outputs": []
    },
    {
      "cell_type": "code",
      "source": [
        "\n",
        "\n",
        "\n",
        "print(\"training with Sigmoid\")\n",
        "W1, b1, W2, b2, W3, b3, accuracy_list_sigmoid = gradient_descent(\n",
        "    X_dev, Y_dev, 0.10, 500, sigmoid, sigmoid, sigmoid_deriv, sigmoid_deriv)\n",
        "\n",
        "predictions_test_sigmoid = make_predictions(X_dev, W1, b1, W2, b2, W3, b3, sigmoid, sigmoid)\n"
      ],
      "metadata": {
        "execution": {
          "iopub.status.busy": "2024-05-30T13:10:54.403702Z",
          "iopub.execute_input": "2024-05-30T13:10:54.404143Z",
          "iopub.status.idle": "2024-05-30T13:10:54.430061Z",
          "shell.execute_reply.started": "2024-05-30T13:10:54.40411Z",
          "shell.execute_reply": "2024-05-30T13:10:54.428528Z"
        },
        "trusted": true,
        "id": "oXO6g9QSr-tD"
      },
      "execution_count": null,
      "outputs": []
    },
    {
      "cell_type": "code",
      "source": [
        "plt.figure(figsize=(12, 6))\n",
        "plt.plot(range(0, 500, 10), accuracy_list_leaky_elu, label='LeakyReLU + ELU', marker='o')\n",
        "plt.plot(range(0, 500, 10), accuracy_list_sigmoid, label='Sigmod', marker='s')\n",
        "plt.plot(range(0, 500, 10), accuracy_list_relu, label='RelU', marker= 'v')\n",
        "\n",
        "plt.xlabel('Iterations')\n",
        "plt.xlabel('Iterations')\n",
        "plt.ylabel('Accuracy')\n",
        "plt.title('Model Accuracy over Iterations')\n",
        "plt.legend()\n",
        "plt.grid(True)\n",
        "plt.show()\n",
        "\n"
      ],
      "metadata": {
        "execution": {
          "iopub.status.busy": "2024-05-30T13:10:54.927341Z",
          "iopub.execute_input": "2024-05-30T13:10:54.92779Z",
          "iopub.status.idle": "2024-05-30T13:10:54.942834Z",
          "shell.execute_reply.started": "2024-05-30T13:10:54.927759Z",
          "shell.execute_reply": "2024-05-30T13:10:54.941552Z"
        },
        "trusted": true,
        "id": "gqlR6Vhbr-tE"
      },
      "execution_count": null,
      "outputs": []
    },
    {
      "cell_type": "code",
      "source": [],
      "metadata": {
        "execution": {
          "iopub.status.busy": "2024-05-30T13:18:29.273972Z",
          "iopub.execute_input": "2024-05-30T13:18:29.274371Z",
          "iopub.status.idle": "2024-05-30T13:18:29.563827Z",
          "shell.execute_reply.started": "2024-05-30T13:18:29.274329Z",
          "shell.execute_reply": "2024-05-30T13:18:29.56271Z"
        },
        "trusted": true,
        "id": "DXbLm8S9r-tE"
      },
      "execution_count": null,
      "outputs": []
    },
    {
      "cell_type": "code",
      "source": [],
      "metadata": {
        "execution": {
          "iopub.status.busy": "2024-05-30T13:20:40.753477Z",
          "iopub.execute_input": "2024-05-30T13:20:40.75396Z",
          "iopub.status.idle": "2024-05-30T13:20:40.780649Z",
          "shell.execute_reply.started": "2024-05-30T13:20:40.753927Z",
          "shell.execute_reply": "2024-05-30T13:20:40.779021Z"
        },
        "trusted": true,
        "id": "gnfsMXQPr-tE",
        "outputId": "37365561-07e4-4d94-c7bd-7ffb45876740"
      },
      "execution_count": null,
      "outputs": [
        {
          "execution_count": 32,
          "output_type": "execute_result",
          "data": {
            "text/plain": "0.889"
          },
          "metadata": {}
        }
      ]
    },
    {
      "cell_type": "code",
      "source": [],
      "metadata": {
        "id": "uvfoZekkr-tE"
      },
      "execution_count": null,
      "outputs": []
    }
  ]
}