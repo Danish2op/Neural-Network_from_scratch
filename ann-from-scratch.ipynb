{
 "cells": [
  {
   "cell_type": "code",
   "execution_count": 1,
   "id": "cad14ca2",
   "metadata": {
    "_cell_guid": "b1076dfc-b9ad-4769-8c92-a6c4dae69d19",
    "_uuid": "8f2839f25d086af736a60e9eeb907d3b93b6e0e5",
    "execution": {
     "iopub.execute_input": "2025-06-23T10:46:11.089266Z",
     "iopub.status.busy": "2025-06-23T10:46:11.088907Z",
     "iopub.status.idle": "2025-06-23T10:46:12.985689Z",
     "shell.execute_reply": "2025-06-23T10:46:12.984766Z"
    },
    "papermill": {
     "duration": 1.904175,
     "end_time": "2025-06-23T10:46:12.987407",
     "exception": false,
     "start_time": "2025-06-23T10:46:11.083232",
     "status": "completed"
    },
    "tags": []
   },
   "outputs": [],
   "source": [
    "import numpy as np\n",
    "import pandas as pd\n",
    "from matplotlib import pyplot as plt\n",
    "import random\n",
    "np.random.seed(0)\n",
    "random.seed(0)"
   ]
  },
  {
   "cell_type": "code",
   "execution_count": 2,
   "id": "b91f002f",
   "metadata": {
    "execution": {
     "iopub.execute_input": "2025-06-23T10:46:12.996800Z",
     "iopub.status.busy": "2025-06-23T10:46:12.996010Z",
     "iopub.status.idle": "2025-06-23T10:46:16.772103Z",
     "shell.execute_reply": "2025-06-23T10:46:16.771215Z"
    },
    "papermill": {
     "duration": 3.78238,
     "end_time": "2025-06-23T10:46:16.773826",
     "exception": false,
     "start_time": "2025-06-23T10:46:12.991446",
     "status": "completed"
    },
    "tags": []
   },
   "outputs": [],
   "source": [
    "data = pd.read_csv('/kaggle/input/handwritten-digits/train.csv')\n",
    "data = np.array(data)\n",
    "m, n = data.shape\n",
    "np.random.shuffle(data) \n"
   ]
  },
  {
   "cell_type": "code",
   "execution_count": 3,
   "id": "61e877bf",
   "metadata": {
    "execution": {
     "iopub.execute_input": "2025-06-23T10:46:16.787084Z",
     "iopub.status.busy": "2025-06-23T10:46:16.786420Z",
     "iopub.status.idle": "2025-06-23T10:46:16.907256Z",
     "shell.execute_reply": "2025-06-23T10:46:16.906350Z"
    },
    "papermill": {
     "duration": 0.130458,
     "end_time": "2025-06-23T10:46:16.909545",
     "exception": false,
     "start_time": "2025-06-23T10:46:16.779087",
     "status": "completed"
    },
    "tags": []
   },
   "outputs": [],
   "source": [
    "data_dev = data[0:28000].T\n",
    "Y_dev = data_dev[0]\n",
    "X_dev = data_dev[1:n]\n",
    "X_dev = X_dev / 255."
   ]
  },
  {
   "cell_type": "code",
   "execution_count": 4,
   "id": "95447633",
   "metadata": {
    "execution": {
     "iopub.execute_input": "2025-06-23T10:46:16.923675Z",
     "iopub.status.busy": "2025-06-23T10:46:16.923369Z",
     "iopub.status.idle": "2025-06-23T10:46:17.088008Z",
     "shell.execute_reply": "2025-06-23T10:46:17.087025Z"
    },
    "papermill": {
     "duration": 0.173959,
     "end_time": "2025-06-23T10:46:17.090039",
     "exception": false,
     "start_time": "2025-06-23T10:46:16.916080",
     "status": "completed"
    },
    "tags": []
   },
   "outputs": [],
   "source": [
    "data_train = data[1000:m].T\n",
    "Y_train = data_train[0]\n",
    "X_train = data_train[1:n]\n",
    "X_train = X_train / 255.\n",
    "_, m_train = X_train.shape"
   ]
  },
  {
   "cell_type": "code",
   "execution_count": 5,
   "id": "0b8ea78d",
   "metadata": {
    "execution": {
     "iopub.execute_input": "2025-06-23T10:46:17.104330Z",
     "iopub.status.busy": "2025-06-23T10:46:17.103984Z",
     "iopub.status.idle": "2025-06-23T10:46:17.109626Z",
     "shell.execute_reply": "2025-06-23T10:46:17.108720Z"
    },
    "papermill": {
     "duration": 0.014512,
     "end_time": "2025-06-23T10:46:17.111226",
     "exception": false,
     "start_time": "2025-06-23T10:46:17.096714",
     "status": "completed"
    },
    "tags": []
   },
   "outputs": [],
   "source": [
    "def init_params():\n",
    "    W1 = np.random.rand(128, 784) - 0.5\n",
    "    b1 = np.random.rand(128, 1) - 0.5\n",
    "    W2 = np.random.rand(64, 128) - 0.5\n",
    "    b2 = np.random.rand(64, 1) - 0.5\n",
    "    W3 = np.random.rand(10, 64) - 0.5\n",
    "    b3 = np.random.rand(10, 1) - 0.5\n",
    "    return W1, b1, W2, b2, W3, b3\n",
    "\n",
    "\n"
   ]
  },
  {
   "cell_type": "code",
   "execution_count": 6,
   "id": "75e2f511",
   "metadata": {
    "execution": {
     "iopub.execute_input": "2025-06-23T10:46:17.120075Z",
     "iopub.status.busy": "2025-06-23T10:46:17.119685Z",
     "iopub.status.idle": "2025-06-23T10:46:17.130211Z",
     "shell.execute_reply": "2025-06-23T10:46:17.129277Z"
    },
    "papermill": {
     "duration": 0.016955,
     "end_time": "2025-06-23T10:46:17.131953",
     "exception": false,
     "start_time": "2025-06-23T10:46:17.114998",
     "status": "completed"
    },
    "tags": []
   },
   "outputs": [],
   "source": [
    "# Activation functions and their derivatives\n",
    "def LeakyReLU(Z, alpha=0.01):\n",
    "    return np.maximum(alpha * Z, Z)\n",
    "\n",
    "def ELU(Z, alpha=1.0):\n",
    "    return np.where(Z > 0, Z, alpha * (np.exp(Z) - 1))\n",
    "\n",
    "def ReLU(Z):\n",
    "    return np.maximum(0, Z)\n",
    "\n",
    "def LeakyReLU_deriv(Z, alpha=0.01):\n",
    "    return np.where(Z > 0, 1, alpha)\n",
    "\n",
    "def ELU_deriv(Z, alpha=1.0):\n",
    "    return np.where(Z > 0, 1, alpha * np.exp(Z))\n",
    "\n",
    "def ReLU_deriv(Z):\n",
    "    return np.where(Z > 0, 1, 0)\n",
    "\n",
    "def softmax(Z):\n",
    "    A = np.exp(Z) / np.sum(np.exp(Z), axis=0)\n",
    "    return A\n",
    "\n",
    "def sigmoid(Z):\n",
    "    return 1 / (1 + np.exp(-Z))\n",
    "\n",
    "def sigmoid_deriv(Z):\n",
    "    return sigmoid(Z) * (1 - sigmoid(Z))\n"
   ]
  },
  {
   "cell_type": "code",
   "execution_count": 7,
   "id": "30fd0235",
   "metadata": {
    "execution": {
     "iopub.execute_input": "2025-06-23T10:46:17.145932Z",
     "iopub.status.busy": "2025-06-23T10:46:17.145614Z",
     "iopub.status.idle": "2025-06-23T10:46:17.151395Z",
     "shell.execute_reply": "2025-06-23T10:46:17.150511Z"
    },
    "papermill": {
     "duration": 0.014564,
     "end_time": "2025-06-23T10:46:17.152975",
     "exception": false,
     "start_time": "2025-06-23T10:46:17.138411",
     "status": "completed"
    },
    "tags": []
   },
   "outputs": [],
   "source": [
    "def forward_prop(W1, b1, W2, b2, W3, b3, X, activation_hidden1, activation_hidden2):\n",
    "    Z1 = W1.dot(X) + b1\n",
    "    A1 = activation_hidden1(Z1)\n",
    "    Z2 = W2.dot(A1) + b2\n",
    "    A2 = activation_hidden2(Z2)\n",
    "    Z3 = W3.dot(A2) + b3\n",
    "    A3 = softmax(Z3)\n",
    "    return Z1, A1, Z2, A2, Z3, A3\n"
   ]
  },
  {
   "cell_type": "code",
   "execution_count": 8,
   "id": "d6d8b3d2",
   "metadata": {
    "execution": {
     "iopub.execute_input": "2025-06-23T10:46:17.167369Z",
     "iopub.status.busy": "2025-06-23T10:46:17.166562Z",
     "iopub.status.idle": "2025-06-23T10:46:17.171604Z",
     "shell.execute_reply": "2025-06-23T10:46:17.170732Z"
    },
    "papermill": {
     "duration": 0.013954,
     "end_time": "2025-06-23T10:46:17.173262",
     "exception": false,
     "start_time": "2025-06-23T10:46:17.159308",
     "status": "completed"
    },
    "tags": []
   },
   "outputs": [],
   "source": [
    "def one_hot(Y):\n",
    "    one_hot_Y = np.zeros((Y.size, Y.max() + 1))\n",
    "    one_hot_Y[np.arange(Y.size), Y] = 1\n",
    "    one_hot_Y = one_hot_Y.T\n",
    "    return one_hot_Y\n"
   ]
  },
  {
   "cell_type": "code",
   "execution_count": 9,
   "id": "d3212520",
   "metadata": {
    "execution": {
     "iopub.execute_input": "2025-06-23T10:46:17.187577Z",
     "iopub.status.busy": "2025-06-23T10:46:17.186851Z",
     "iopub.status.idle": "2025-06-23T10:46:17.193560Z",
     "shell.execute_reply": "2025-06-23T10:46:17.192594Z"
    },
    "papermill": {
     "duration": 0.015557,
     "end_time": "2025-06-23T10:46:17.195257",
     "exception": false,
     "start_time": "2025-06-23T10:46:17.179700",
     "status": "completed"
    },
    "tags": []
   },
   "outputs": [],
   "source": [
    "def backward_prop(Z1, A1, Z2, A2, Z3, A3, W1, W2, W3, X, Y, activation_hidden1_deriv, activation_hidden2_deriv):\n",
    "    one_hot_Y = one_hot(Y)\n",
    "    dZ3 = A3 - one_hot_Y\n",
    "    dW3 = 1 / m * dZ3.dot(A2.T)\n",
    "    db3 = 1 / m * np.sum(dZ3, axis=1, keepdims=True)\n",
    "    dZ2 = W3.T.dot(dZ3) * activation_hidden2_deriv(Z2)\n",
    "    dW2 = 1 / m * dZ2.dot(A1.T)\n",
    "    db2 = 1 / m * np.sum(dZ2, axis=1, keepdims=True)\n",
    "    dZ1 = W2.T.dot(dZ2) * activation_hidden1_deriv(Z1)\n",
    "    dW1 = 1 / m * dZ1.dot(X.T)\n",
    "    db1 = 1 / m * np.sum(dZ1, axis=1, keepdims=True)\n",
    "    return dW1, db1, dW2, db2, dW3, db3\n"
   ]
  },
  {
   "cell_type": "code",
   "execution_count": 10,
   "id": "fd888b3f",
   "metadata": {
    "execution": {
     "iopub.execute_input": "2025-06-23T10:46:17.209799Z",
     "iopub.status.busy": "2025-06-23T10:46:17.208811Z",
     "iopub.status.idle": "2025-06-23T10:46:17.214210Z",
     "shell.execute_reply": "2025-06-23T10:46:17.213338Z"
    },
    "papermill": {
     "duration": 0.014242,
     "end_time": "2025-06-23T10:46:17.215830",
     "exception": false,
     "start_time": "2025-06-23T10:46:17.201588",
     "status": "completed"
    },
    "tags": []
   },
   "outputs": [],
   "source": [
    "def update_params(W1, b1, W2, b2, W3, b3, dW1, db1, dW2, db2, dW3, db3, alpha):\n",
    "    W1 = W1 - alpha * dW1\n",
    "    b1 = b1 - alpha * db1    \n",
    "    W2 = W2 - alpha * dW2  \n",
    "    b2 = b2 - alpha * db2\n",
    "    W3 = W3 - alpha * dW3\n",
    "    b3 = b3 - alpha * db3\n",
    "    return W1, b1, W2, b2, W3, b3\n"
   ]
  },
  {
   "cell_type": "code",
   "execution_count": 11,
   "id": "efb1b19a",
   "metadata": {
    "execution": {
     "iopub.execute_input": "2025-06-23T10:46:17.229316Z",
     "iopub.status.busy": "2025-06-23T10:46:17.228914Z",
     "iopub.status.idle": "2025-06-23T10:46:17.234055Z",
     "shell.execute_reply": "2025-06-23T10:46:17.233213Z"
    },
    "papermill": {
     "duration": 0.013438,
     "end_time": "2025-06-23T10:46:17.235697",
     "exception": false,
     "start_time": "2025-06-23T10:46:17.222259",
     "status": "completed"
    },
    "tags": []
   },
   "outputs": [],
   "source": [
    "def get_accuracy(predictions, Y):\n",
    "    return np.sum(predictions == Y) / Y.size\n"
   ]
  },
  {
   "cell_type": "code",
   "execution_count": 12,
   "id": "8a27da85",
   "metadata": {
    "execution": {
     "iopub.execute_input": "2025-06-23T10:46:17.245034Z",
     "iopub.status.busy": "2025-06-23T10:46:17.244070Z",
     "iopub.status.idle": "2025-06-23T10:46:17.253999Z",
     "shell.execute_reply": "2025-06-23T10:46:17.252954Z"
    },
    "papermill": {
     "duration": 0.016056,
     "end_time": "2025-06-23T10:46:17.255541",
     "exception": false,
     "start_time": "2025-06-23T10:46:17.239485",
     "status": "completed"
    },
    "tags": []
   },
   "outputs": [],
   "source": [
    "def gradient_descent(X, Y, alpha, iterations, activation_hidden1, activation_hidden2, activation_hidden1_deriv, activation_hidden2_deriv):\n",
    "    W1, b1, W2, b2, W3, b3 = init_params()\n",
    "    accuracy_list = []\n",
    "    for i in range(iterations):\n",
    "        Z1, A1, Z2, A2, Z3, A3 = forward_prop(W1, b1, W2, b2, W3, b3, X, activation_hidden1, activation_hidden2)\n",
    "        dW1, db1, dW2, db2, dW3, db3 = backward_prop(Z1, A1, Z2, A2, Z3, A3, W1, W2, W3, X, Y, activation_hidden1_deriv, activation_hidden2_deriv)\n",
    "        W1, b1, W2, b2, W3, b3 = update_params(W1, b1, W2, b2, W3, b3, dW1, db1, dW2, db2, dW3, db3, alpha)\n",
    "        if i % 10 == 0:\n",
    "            predictions = np.argmax(A3, axis=0)\n",
    "            accuracy = get_accuracy(predictions, Y)\n",
    "            accuracy_list.append(accuracy)\n",
    "            print(f\"Iteration {i}: {accuracy}\")\n",
    "    return W1, b1, W2, b2, W3, b3, accuracy_list\n"
   ]
  },
  {
   "cell_type": "code",
   "execution_count": 13,
   "id": "d445f73b",
   "metadata": {
    "execution": {
     "iopub.execute_input": "2025-06-23T10:46:17.264130Z",
     "iopub.status.busy": "2025-06-23T10:46:17.263749Z",
     "iopub.status.idle": "2025-06-23T10:46:17.269670Z",
     "shell.execute_reply": "2025-06-23T10:46:17.268848Z"
    },
    "papermill": {
     "duration": 0.012071,
     "end_time": "2025-06-23T10:46:17.271418",
     "exception": false,
     "start_time": "2025-06-23T10:46:17.259347",
     "status": "completed"
    },
    "tags": []
   },
   "outputs": [],
   "source": [
    "def make_predictions(X, W1, b1, W2, b2, W3, b3, activation_hidden1, activation_hidden2):\n",
    "    _, _, _, _, _, A3 = forward_prop(W1, b1, W2, b2, W3, b3, X, activation_hidden1, activation_hidden2)\n",
    "    predictions = np.argmax(A3, axis=0)\n",
    "    return predictions\n"
   ]
  },
  {
   "cell_type": "code",
   "execution_count": 14,
   "id": "0bf5c0b6",
   "metadata": {
    "execution": {
     "iopub.execute_input": "2025-06-23T10:46:17.279912Z",
     "iopub.status.busy": "2025-06-23T10:46:17.279445Z",
     "iopub.status.idle": "2025-06-23T10:48:51.924544Z",
     "shell.execute_reply": "2025-06-23T10:48:51.923508Z"
    },
    "papermill": {
     "duration": 154.65128,
     "end_time": "2025-06-23T10:48:51.926330",
     "exception": false,
     "start_time": "2025-06-23T10:46:17.275050",
     "status": "completed"
    },
    "tags": []
   },
   "outputs": [
    {
     "name": "stdout",
     "output_type": "stream",
     "text": [
      "training with LeakyReLU and ELU\n",
      "Iteration 0: 0.061642857142857145\n",
      "Iteration 10: 0.5470357142857143\n",
      "Iteration 20: 0.6481428571428571\n",
      "Iteration 30: 0.6991071428571428\n",
      "Iteration 40: 0.7315714285714285\n",
      "Iteration 50: 0.7533214285714286\n",
      "Iteration 60: 0.7705\n",
      "Iteration 70: 0.7848571428571428\n",
      "Iteration 80: 0.796\n",
      "Iteration 90: 0.8059642857142857\n",
      "Iteration 100: 0.8149642857142857\n",
      "Iteration 110: 0.8224642857142858\n",
      "Iteration 120: 0.8289642857142857\n",
      "Iteration 130: 0.8353928571428572\n",
      "Iteration 140: 0.84025\n",
      "Iteration 150: 0.8443214285714286\n",
      "Iteration 160: 0.8489642857142857\n",
      "Iteration 170: 0.8530714285714286\n",
      "Iteration 180: 0.8567857142857143\n",
      "Iteration 190: 0.8596785714285714\n",
      "Iteration 200: 0.8624642857142857\n",
      "Iteration 210: 0.8648571428571429\n",
      "Iteration 220: 0.8670357142857142\n",
      "Iteration 230: 0.8706785714285714\n",
      "Iteration 240: 0.873\n",
      "Iteration 250: 0.8753928571428572\n",
      "Iteration 260: 0.8774642857142857\n",
      "Iteration 270: 0.8797857142857143\n",
      "Iteration 280: 0.8814285714285715\n",
      "Iteration 290: 0.8830357142857143\n",
      "Iteration 300: 0.8846071428571428\n",
      "Iteration 310: 0.8863928571428571\n",
      "Iteration 320: 0.8876785714285714\n",
      "Iteration 330: 0.8893571428571428\n",
      "Iteration 340: 0.8907142857142857\n",
      "Iteration 350: 0.8925\n",
      "Iteration 360: 0.8936785714285714\n",
      "Iteration 370: 0.8951071428571429\n",
      "Iteration 380: 0.896\n",
      "Iteration 390: 0.8973928571428571\n",
      "Iteration 400: 0.8987142857142857\n",
      "Iteration 410: 0.8999285714285714\n",
      "Iteration 420: 0.9011785714285714\n",
      "Iteration 430: 0.9023928571428571\n",
      "Iteration 440: 0.9028571428571428\n",
      "Iteration 450: 0.90375\n",
      "Iteration 460: 0.9049285714285714\n",
      "Iteration 470: 0.9059285714285714\n",
      "Iteration 480: 0.9066785714285714\n",
      "Iteration 490: 0.9076428571428572\n"
     ]
    }
   ],
   "source": [
    "print(\"training with LeakyReLU and ELU\")\n",
    "W1, b1, W2, b2, W3, b3, accuracy_list_leaky_elu = gradient_descent(\n",
    "    X_dev, Y_dev, 0.10, 500, LeakyReLU, ELU, LeakyReLU_deriv, ELU_deriv)\n",
    "\n",
    "predictions_test_leaky_elu = make_predictions(X_dev, W1, b1, W2, b2, W3, b3, LeakyReLU, ELU)\n"
   ]
  },
  {
   "cell_type": "code",
   "execution_count": 15,
   "id": "12e3ed51",
   "metadata": {
    "execution": {
     "iopub.execute_input": "2025-06-23T10:48:51.940299Z",
     "iopub.status.busy": "2025-06-23T10:48:51.939556Z",
     "iopub.status.idle": "2025-06-23T10:52:40.487983Z",
     "shell.execute_reply": "2025-06-23T10:52:40.486941Z"
    },
    "papermill": {
     "duration": 228.557469,
     "end_time": "2025-06-23T10:52:40.490108",
     "exception": false,
     "start_time": "2025-06-23T10:48:51.932639",
     "status": "completed"
    },
    "tags": []
   },
   "outputs": [
    {
     "name": "stdout",
     "output_type": "stream",
     "text": [
      "training with only ReLU\n",
      "Iteration 0: 0.09407317073170732\n",
      "Iteration 10: 0.5407317073170732\n",
      "Iteration 20: 0.6392926829268293\n",
      "Iteration 30: 0.6962926829268292\n",
      "Iteration 40: 0.7335121951219512\n",
      "Iteration 50: 0.7581951219512195\n",
      "Iteration 60: 0.7779268292682927\n",
      "Iteration 70: 0.7941219512195122\n",
      "Iteration 80: 0.8069512195121952\n",
      "Iteration 90: 0.8175365853658536\n",
      "Iteration 100: 0.8260975609756097\n",
      "Iteration 110: 0.8329512195121951\n",
      "Iteration 120: 0.8385853658536585\n",
      "Iteration 130: 0.844609756097561\n",
      "Iteration 140: 0.8499268292682927\n",
      "Iteration 150: 0.854780487804878\n",
      "Iteration 160: 0.8591219512195122\n",
      "Iteration 170: 0.8631219512195122\n",
      "Iteration 180: 0.8670243902439024\n",
      "Iteration 190: 0.8700487804878049\n",
      "Iteration 200: 0.8730243902439024\n",
      "Iteration 210: 0.8759268292682927\n",
      "Iteration 220: 0.8788292682926829\n",
      "Iteration 230: 0.8812926829268293\n",
      "Iteration 240: 0.8832682926829268\n",
      "Iteration 250: 0.8851219512195122\n",
      "Iteration 260: 0.8868292682926829\n",
      "Iteration 270: 0.8887804878048781\n",
      "Iteration 280: 0.8905365853658537\n",
      "Iteration 290: 0.8921951219512195\n",
      "Iteration 300: 0.894\n",
      "Iteration 310: 0.8954390243902439\n",
      "Iteration 320: 0.8966829268292683\n",
      "Iteration 330: 0.898\n",
      "Iteration 340: 0.8995121951219512\n",
      "Iteration 350: 0.9006829268292683\n",
      "Iteration 360: 0.9020731707317073\n",
      "Iteration 370: 0.9031707317073171\n",
      "Iteration 380: 0.9044146341463415\n",
      "Iteration 390: 0.9055121951219512\n",
      "Iteration 400: 0.9067804878048781\n",
      "Iteration 410: 0.907609756097561\n",
      "Iteration 420: 0.908609756097561\n",
      "Iteration 430: 0.9096341463414634\n",
      "Iteration 440: 0.9103414634146342\n",
      "Iteration 450: 0.9113658536585366\n",
      "Iteration 460: 0.9119268292682927\n",
      "Iteration 470: 0.9129512195121952\n",
      "Iteration 480: 0.9140243902439025\n",
      "Iteration 490: 0.9146341463414634\n"
     ]
    }
   ],
   "source": [
    "# Training and testing with ReLU\n",
    "print(\"training with only ReLU\")\n",
    "W1, b1, W2, b2, W3, b3, accuracy_list_relu = gradient_descent(\n",
    "    X_train, Y_train, 0.10, 500, ReLU, ReLU, ReLU_deriv, ReLU_deriv)\n",
    "\n",
    "predictions_test_relu = make_predictions(X_dev, W1, b1, W2, b2, W3, b3, ReLU, ReLU)\n"
   ]
  },
  {
   "cell_type": "code",
   "execution_count": 16,
   "id": "75211dce",
   "metadata": {
    "execution": {
     "iopub.execute_input": "2025-06-23T10:52:40.513347Z",
     "iopub.status.busy": "2025-06-23T10:52:40.513018Z",
     "iopub.status.idle": "2025-06-23T10:55:20.844692Z",
     "shell.execute_reply": "2025-06-23T10:55:20.843281Z"
    },
    "papermill": {
     "duration": 160.343203,
     "end_time": "2025-06-23T10:55:20.846937",
     "exception": false,
     "start_time": "2025-06-23T10:52:40.503734",
     "status": "completed"
    },
    "tags": []
   },
   "outputs": [
    {
     "name": "stdout",
     "output_type": "stream",
     "text": [
      "training with Sigmoid\n",
      "Iteration 0: 0.08021428571428571\n",
      "Iteration 10: 0.12603571428571428\n",
      "Iteration 20: 0.1984642857142857\n",
      "Iteration 30: 0.2596785714285714\n",
      "Iteration 40: 0.31657142857142856\n",
      "Iteration 50: 0.3667142857142857\n",
      "Iteration 60: 0.41010714285714284\n",
      "Iteration 70: 0.45135714285714285\n",
      "Iteration 80: 0.48432142857142857\n",
      "Iteration 90: 0.5129642857142858\n",
      "Iteration 100: 0.5385714285714286\n",
      "Iteration 110: 0.5612857142857143\n",
      "Iteration 120: 0.5829642857142857\n",
      "Iteration 130: 0.6021071428571428\n",
      "Iteration 140: 0.61875\n",
      "Iteration 150: 0.6342857142857142\n",
      "Iteration 160: 0.6478214285714285\n",
      "Iteration 170: 0.6581071428571429\n",
      "Iteration 180: 0.6685357142857142\n",
      "Iteration 190: 0.6782142857142858\n",
      "Iteration 200: 0.6866428571428571\n",
      "Iteration 210: 0.6947857142857143\n",
      "Iteration 220: 0.7021785714285714\n",
      "Iteration 230: 0.7083214285714285\n",
      "Iteration 240: 0.7145714285714285\n",
      "Iteration 250: 0.7213571428571428\n",
      "Iteration 260: 0.7278571428571429\n",
      "Iteration 270: 0.7336071428571429\n",
      "Iteration 280: 0.7391071428571429\n",
      "Iteration 290: 0.7434642857142857\n",
      "Iteration 300: 0.7483571428571428\n",
      "Iteration 310: 0.7528571428571429\n",
      "Iteration 320: 0.75675\n",
      "Iteration 330: 0.7609285714285714\n",
      "Iteration 340: 0.76475\n",
      "Iteration 350: 0.7684285714285715\n",
      "Iteration 360: 0.7724285714285715\n",
      "Iteration 370: 0.7755\n",
      "Iteration 380: 0.7788928571428572\n",
      "Iteration 390: 0.7818928571428572\n",
      "Iteration 400: 0.7848571428571428\n",
      "Iteration 410: 0.788\n",
      "Iteration 420: 0.7907142857142857\n",
      "Iteration 430: 0.7930357142857143\n",
      "Iteration 440: 0.7953571428571429\n",
      "Iteration 450: 0.7976785714285715\n",
      "Iteration 460: 0.8000357142857143\n",
      "Iteration 470: 0.8021785714285714\n",
      "Iteration 480: 0.8039285714285714\n",
      "Iteration 490: 0.8065714285714286\n"
     ]
    }
   ],
   "source": [
    "print(\"training with Sigmoid\")\n",
    "W1, b1, W2, b2, W3, b3, accuracy_list_sigmoid = gradient_descent(\n",
    "    X_dev, Y_dev, 0.10, 500, sigmoid, sigmoid, sigmoid_deriv, sigmoid_deriv)\n",
    "\n",
    "predictions_test_sigmoid = make_predictions(X_dev, W1, b1, W2, b2, W3, b3, sigmoid, sigmoid)\n"
   ]
  },
  {
   "cell_type": "code",
   "execution_count": 17,
   "id": "eaea94e6",
   "metadata": {
    "execution": {
     "iopub.execute_input": "2025-06-23T10:55:20.874458Z",
     "iopub.status.busy": "2025-06-23T10:55:20.874023Z",
     "iopub.status.idle": "2025-06-23T10:55:21.136013Z",
     "shell.execute_reply": "2025-06-23T10:55:21.135050Z"
    },
    "papermill": {
     "duration": 0.275836,
     "end_time": "2025-06-23T10:55:21.137611",
     "exception": false,
     "start_time": "2025-06-23T10:55:20.861775",
     "status": "completed"
    },
    "tags": []
   },
   "outputs": [
    {
     "data": {
      "image/png": "[encoded data removed]",
      "text/plain": [
       "<Figure size 640x480 with 1 Axes>"
      ]
     },
     "metadata": {},
     "output_type": "display_data"
    }
   ],
   "source": [
    "plt.plot(accuracy_list_leaky_elu, label='LeakyReLU + ELU')\n",
    "plt.plot(accuracy_list_relu, label='ReLU')\n",
    "plt.plot(accuracy_list_sigmoid, label='Sigmoid')\n",
    "plt.xlabel('Iteration (x10)')\n",
    "plt.ylabel('Accuracy')\n",
    "plt.legend()\n",
    "plt.show()\n"
   ]
  },
  {
   "cell_type": "code",
   "execution_count": 18,
   "id": "6f215b38",
   "metadata": {
    "execution": {
     "iopub.execute_input": "2025-06-23T10:55:21.161789Z",
     "iopub.status.busy": "2025-06-23T10:55:21.161483Z",
     "iopub.status.idle": "2025-06-23T10:55:21.166997Z",
     "shell.execute_reply": "2025-06-23T10:55:21.166241Z"
    },
    "papermill": {
     "duration": 0.019085,
     "end_time": "2025-06-23T10:55:21.168485",
     "exception": false,
     "start_time": "2025-06-23T10:55:21.149400",
     "status": "completed"
    },
    "tags": []
   },
   "outputs": [],
   "source": [
    "def test_prediction(index, W1, b1, W2, b2, W3, b3):\n",
    "    current_image = X_train[:, index, None]\n",
    "    prediction = make_predictions(X_train[:, index, None], W1, b1, W2, b2, W3, b3, LeakyReLU,ELU)\n",
    "    label = Y_train[index]\n",
    "    print(\"Prediction: \", prediction)\n",
    "    print(\"Label: \", label)\n",
    "    \n",
    "    current_image = current_image.reshape((28, 28)) * 255\n",
    "    plt.gray()\n",
    "    plt.imshow(current_image, interpolation='nearest')\n",
    "    plt.show()"
   ]
  },
  {
   "cell_type": "code",
   "execution_count": 19,
   "id": "e462e24d",
   "metadata": {
    "execution": {
     "iopub.execute_input": "2025-06-23T10:55:21.193100Z",
     "iopub.status.busy": "2025-06-23T10:55:21.192714Z",
     "iopub.status.idle": "2025-06-23T10:55:21.435485Z",
     "shell.execute_reply": "2025-06-23T10:55:21.434301Z"
    },
    "papermill": {
     "duration": 0.257043,
     "end_time": "2025-06-23T10:55:21.437429",
     "exception": false,
     "start_time": "2025-06-23T10:55:21.180386",
     "status": "completed"
    },
    "tags": []
   },
   "outputs": [
    {
     "name": "stdout",
     "output_type": "stream",
     "text": [
      "Prediction:  [2]\n",
      "Label:  7\n"
     ]
    },
    {
     "data": {
      "image/png": "[encoded data removed]",
      "text/plain": [
       "<Figure size 640x480 with 1 Axes>"
      ]
     },
     "metadata": {},
     "output_type": "display_data"
    }
   ],
   "source": [
    "test_prediction(7, W1, b1, W2, b2, W3, b3)"
   ]
  },
  {
   "cell_type": "code",
   "execution_count": null,
   "id": "de89db00",
   "metadata": {
    "papermill": {
     "duration": 0.011013,
     "end_time": "2025-06-23T10:55:21.465732",
     "exception": false,
     "start_time": "2025-06-23T10:55:21.454719",
     "status": "completed"
    },
    "tags": []
   },
   "outputs": [],
   "source": []
  }
 ],
 "metadata": {
  "kaggle": {
   "accelerator": "none",
   "dataSources": [
    {
     "databundleVersionId": 861823,
     "isSourceIdPinned": false,
     "sourceId": 3004,
     "sourceType": "competition"
    },
    {
     "datasetId": 7722583,
     "sourceId": 12255872,
     "sourceType": "datasetVersion"
    }
   ],
   "dockerImageVersionId": 31040,
   "isGpuEnabled": false,
   "isInternetEnabled": true,
   "language": "python",
   "sourceType": "notebook"
  },
  "kernelspec": {
   "display_name": "Python 3",
   "language": "python",
   "name": "python3"
  },
  "language_info": {
   "codemirror_mode": {
    "name": "ipython",
    "version": 3
   },
   "file_extension": ".py",
   "mimetype": "text/x-python",
   "name": "python",
   "nbconvert_exporter": "python",
   "pygments_lexer": "ipython3",
   "version": "3.11.11"
  },
  "papermill": {
   "default_parameters": {},
   "duration": 556.631122,
   "end_time": "2025-06-23T10:55:21.998831",
   "environment_variables": {},
   "exception": null,
   "input_path": "__notebook__.ipynb",
   "output_path": "__notebook__.ipynb",
   "parameters": {},
   "start_time": "2025-06-23T10:46:05.367709",
   "version": "2.5.0"
  }
 },
 "nbformat": 4,
 "nbformat_minor": 5
}
